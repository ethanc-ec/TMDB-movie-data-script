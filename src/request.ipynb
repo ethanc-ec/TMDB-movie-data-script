{
 "cells": [
  {
   "cell_type": "code",
   "execution_count": 1,
   "metadata": {},
   "outputs": [
    {
     "data": {
      "text/plain": [
       "True"
      ]
     },
     "execution_count": 1,
     "metadata": {},
     "output_type": "execute_result"
    }
   ],
   "source": [
    "import requests\n",
    "import pandas as pd\n",
    "import numpy as np\n",
    "from datetime import datetime\n",
    "import json\n",
    "import gzip\n",
    "import io\n",
    "import collections\n",
    "from tqdm.notebook import tqdm, trange\n",
    "from concurrent.futures import ThreadPoolExecutor\n",
    "from time import sleep\n",
    "from dotenv import load_dotenv\n",
    "import os\n",
    "\n",
    "load_dotenv()"
   ]
  },
  {
   "cell_type": "code",
   "execution_count": 2,
   "metadata": {},
   "outputs": [
    {
     "data": {
      "text/plain": [
       "200"
      ]
     },
     "execution_count": 2,
     "metadata": {},
     "output_type": "execute_result"
    }
   ],
   "source": [
    "url = \"https://api.themoviedb.org/3/movie/3?language=en-US\"\n",
    "\n",
    "headers = {\n",
    "    \"accept\": \"application/json\",\n",
    "    \"Authorization\": f\"Bearer {os.getenv('TMDB_API_KEY')}\"\n",
    "}\n",
    "\n",
    "response = requests.get(url, headers=headers)\n",
    "\n",
    "response.status_code"
   ]
  },
  {
   "cell_type": "markdown",
   "metadata": {},
   "source": [
    "https://developer.themoviedb.org/docs/daily-id-exports"
   ]
  },
  {
   "cell_type": "code",
   "execution_count": 3,
   "metadata": {},
   "outputs": [],
   "source": [
    "cur_time = datetime.today()\n",
    "month, day, year = cur_time.month, cur_time.day, cur_time.year\n",
    "\n",
    "if len(str(month)) == 1:\n",
    "    month = \"0\" + str(month)\n",
    "if len(str(day)) == 1:\n",
    "    day = \"0\" + str(day)\n",
    "\n",
    "url = f\"http://files.tmdb.org/p/exports/movie_ids_{month}_{day}_{year}.json.gz\"\n",
    "\n",
    "movies = requests.get(url)"
   ]
  },
  {
   "cell_type": "code",
   "execution_count": 4,
   "metadata": {},
   "outputs": [],
   "source": [
    "data = io.BytesIO(gzip.decompress(movies.content)).read().decode('utf-8').splitlines()\n",
    "data = [json.loads(i) for i in data]"
   ]
  },
  {
   "cell_type": "code",
   "execution_count": null,
   "metadata": {},
   "outputs": [],
   "source": [
    "df = pd.DataFrame(data)\n",
    "df.sort_values(by=\"id\", inplace=True)\n",
    "df"
   ]
  },
  {
   "cell_type": "code",
   "execution_count": 6,
   "metadata": {},
   "outputs": [],
   "source": [
    "def flatten(dictionary, parent_key=False, separator='_'):\n",
    "    items = []\n",
    "    for key, value in dictionary.items():\n",
    "        new_key = str(parent_key) + separator + key if parent_key else key\n",
    "        if isinstance(value, collections.abc.MutableMapping):\n",
    "            items.extend(flatten(value, new_key, separator).items())\n",
    "        else:\n",
    "            items.append((new_key, value))\n",
    "    return dict(items)\n",
    "\n",
    "\n",
    "def process_data(data: dict):\n",
    "    result = {}  \n",
    "  \n",
    "    for key, value in flatten(data).items():\n",
    "        if isinstance(value, list):\n",
    "            if len(value) == 0:\n",
    "                result[key] = \"-\".join(value)\n",
    "            elif isinstance(value[0], dict):            \n",
    "                value_keys = value[0].keys()\n",
    "                for k in value_keys:\n",
    "                    result[key + \"_\" + k] = \"-\".join([str(i[k]) for i in value])\n",
    "        \n",
    "        else:\n",
    "            result[key] = value\n",
    "                \n",
    "    return result"
   ]
  },
  {
   "cell_type": "code",
   "execution_count": 7,
   "metadata": {},
   "outputs": [],
   "source": [
    "url = \"https://api.themoviedb.org/3/movie/\", \"?language=en-US\"\n",
    "\n",
    "response = requests.get(url[0] + str(df['id'][0]) + url[1], headers=headers).json()\n",
    "\n",
    "response['genres'] = '-'.join([i['name'] for i in response.pop(\"genres\")]) "
   ]
  },
  {
   "cell_type": "code",
   "execution_count": null,
   "metadata": {},
   "outputs": [],
   "source": [
    "test = process_data(response)\n",
    "test"
   ]
  },
  {
   "cell_type": "code",
   "execution_count": null,
   "metadata": {},
   "outputs": [],
   "source": [
    "pd.DataFrame([test])"
   ]
  },
  {
   "cell_type": "code",
   "execution_count": 10,
   "metadata": {},
   "outputs": [],
   "source": [
    "def fetch_data(num: int):\n",
    "    response = requests.get(url[0] + str(num) + url[1], headers=headers)\n",
    "    \n",
    "    if response.status_code == 200:\n",
    "        return response.json()\n",
    "\n",
    "    sleep(1)\n",
    "\n",
    "    return fetch_data(num)\n",
    "    "
   ]
  },
  {
   "cell_type": "code",
   "execution_count": null,
   "metadata": {},
   "outputs": [],
   "source": [
    "with ThreadPoolExecutor(max_workers=8) as executor:\n",
    "    results = list(tqdm(executor.map(lambda x: fetch_data(x), df['id']), total=df.shape[0]))"
   ]
  },
  {
   "cell_type": "code",
   "execution_count": null,
   "metadata": {},
   "outputs": [],
   "source": [
    "with ThreadPoolExecutor(max_workers=16) as executor:\n",
    "    results = list(tqdm(executor.map(process_data, results), total=df.shape[0]))"
   ]
  },
  {
   "cell_type": "code",
   "execution_count": null,
   "metadata": {},
   "outputs": [],
   "source": [
    "clean_df = pd.DataFrame(results)\n",
    "clean_df.to_csv(\"movies.csv\", index=False)"
   ]
  }
 ],
 "metadata": {
  "kernelspec": {
   "display_name": ".venv",
   "language": "python",
   "name": "python3"
  },
  "language_info": {
   "codemirror_mode": {
    "name": "ipython",
    "version": 3
   },
   "file_extension": ".py",
   "mimetype": "text/x-python",
   "name": "python",
   "nbconvert_exporter": "python",
   "pygments_lexer": "ipython3",
   "version": "3.12.6"
  }
 },
 "nbformat": 4,
 "nbformat_minor": 2
}
